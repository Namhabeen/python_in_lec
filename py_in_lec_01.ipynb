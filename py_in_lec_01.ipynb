{
 "cells": [
  {
   "cell_type": "code",
   "execution_count": 1,
   "id": "d94514e8-cad5-487a-a236-300a34460ae8",
   "metadata": {},
   "outputs": [
    {
     "name": "stdout",
     "output_type": "stream",
     "text": [
      "314.15\n"
     ]
    }
   ],
   "source": [
    "pi = 3.1415\n",
    "radius = 10\n",
    "width = round(pi * (radius**2),2)\n",
    "print(width)"
   ]
  },
  {
   "cell_type": "code",
   "execution_count": 3,
   "id": "1706ece7-17b9-41a5-bc99-e0449c82478d",
   "metadata": {},
   "outputs": [
    {
     "name": "stdout",
     "output_type": "stream",
     "text": [
      "720 <class 'int'> 100 <class 'str'>\n"
     ]
    }
   ],
   "source": [
    "str_txt1 = \"720\"\n",
    "str_ch_txt1 = int(str_txt1)\n",
    "\n",
    "int_txt1 = 100\n",
    "int_ch_txt1 = str(int_txt1)\n",
    "\n",
    "print(str_ch_txt1, type(str_ch_txt1), int_ch_txt1, type(int_ch_txt1))"
   ]
  },
  {
   "cell_type": "code",
   "execution_count": 5,
   "id": "a1bf7fbf-0a17-4249-ba5d-9ace725203ef",
   "metadata": {},
   "outputs": [
    {
     "name": "stdout",
     "output_type": "stream",
     "text": [
      "6\n",
      "8\n",
      "0.5\n"
     ]
    }
   ],
   "source": [
    "num1 = 2\n",
    "num2 = 4\n",
    "\n",
    "print (num1 + num2)\n",
    "print (num1 * num2)\n",
    "print (num1 / num2)"
   ]
  },
  {
   "cell_type": "code",
   "execution_count": 7,
   "id": "6b1bb010-e9c6-4914-bce2-812e44cc5bdf",
   "metadata": {},
   "outputs": [
    {
     "name": "stdout",
     "output_type": "stream",
     "text": [
      "36\n"
     ]
    }
   ],
   "source": [
    "print(6**2)"
   ]
  },
  {
   "cell_type": "code",
   "execution_count": 9,
   "id": "aef3cf13-1e2a-4626-a052-3a3ddf617980",
   "metadata": {},
   "outputs": [
    {
     "name": "stdin",
     "output_type": "stream",
     "text": [
      "첫번째 숫자를 입력하세요 2\n",
      "두번째 숫자를 입력하세요 4\n"
     ]
    },
    {
     "name": "stdout",
     "output_type": "stream",
     "text": [
      "결과값 출력\n",
      "INPUT:  2  and  4 \n",
      "OUTPUT:  6\n"
     ]
    }
   ],
   "source": [
    "num1 = int(input(\"첫번째 숫자를 입력하세요\"))\n",
    "num2 = int(input(\"두번째 숫자를 입력하세요\"))\n",
    "print(\"결과값 출력\\nINPUT: \",num1,\" and \",num2,\"\\nOUTPUT: \",(num1+num2))"
   ]
  },
  {
   "cell_type": "code",
   "execution_count": 11,
   "id": "01210d5a-bf91-4602-a52e-6447b8ec037a",
   "metadata": {},
   "outputs": [
    {
     "name": "stdin",
     "output_type": "stream",
     "text": [
      "첫번째 숫자를 입력하세요 2\n",
      "두번째 숫자를 입력하세요 4\n"
     ]
    },
    {
     "name": "stdout",
     "output_type": "stream",
     "text": [
      "결과값 출력\n",
      "INPUT:  2  and  4 \n",
      "OUTPUT: \n",
      " 6 \n",
      " 8 \n",
      " 0.5\n"
     ]
    }
   ],
   "source": [
    "num1 = int(input(\"첫번째 숫자를 입력하세요\"))\n",
    "num2 = int(input(\"두번째 숫자를 입력하세요\"))\n",
    "print(\"결과값 출력\\nINPUT: \",num1,\" and \",num2,\"\\nOUTPUT: \\n\",(num1+num2),\"\\n\",(num1*num2),\"\\n\",(num1/num2))"
   ]
  },
  {
   "cell_type": "code",
   "execution_count": 13,
   "id": "5b4e9cf8-4c7e-49d0-b4e9-3b1656bd6d47",
   "metadata": {},
   "outputs": [
    {
     "name": "stdin",
     "output_type": "stream",
     "text": [
      "첫번째 숫자를 입력하세요 4\n",
      "두번째 숫자를 입력하세요 4\n"
     ]
    },
    {
     "name": "stdout",
     "output_type": "stream",
     "text": [
      "결과값 출력\n",
      "INPUT:  4  and  4 \n",
      "OUTPUT: \n",
      " 8 \n",
      " 16 \n",
      " 1.0 \n",
      " 1 \n",
      " 0\n"
     ]
    }
   ],
   "source": [
    "num1 = int(input(\"첫번째 숫자를 입력하세요\"))\n",
    "num2 = int(input(\"두번째 숫자를 입력하세요\"))\n",
    "print(\"결과값 출력\\nINPUT: \",num1,\" and \",num2,\"\\nOUTPUT: \\n\",(num1+num2),\"\\n\",(num1*num2),\"\\n\",(num1/num2),\"\\n\",(num1//num2),\"\\n\",(num1%num2))"
   ]
  },
  {
   "cell_type": "code",
   "execution_count": 15,
   "id": "a8365417-aff2-4df4-9463-910b808e206c",
   "metadata": {},
   "outputs": [
    {
     "name": "stdin",
     "output_type": "stream",
     "text": [
      "x and y의 형태로 입력하세요: 1 and 2\n"
     ]
    },
    {
     "name": "stdout",
     "output_type": "stream",
     "text": [
      "1 + 2 = 3 \n",
      " 1 * 2 = 2 \n",
      " 1 / 2 = 0.5 \n",
      " 1 // 2 = 0 \n",
      " 1 % 2 = 1 \n",
      "\n"
     ]
    }
   ],
   "source": [
    "num1, num2 = map(int, input(\"x and y의 형태로 입력하세요:\").split(\"and\"))\n",
    "print(num1,\"+\",num2,\"=\",(num1+num2),\"\\n\",num1,\"*\",num2,\"=\",(num1*num2),\"\\n\",num1,\"/\",num2,\"=\",(num1/num2),\"\\n\",num1,\"//\",num2,\"=\",(num1//num2),\"\\n\",num1,\"%\",num2,\"=\",(num1%num2),\"\\n\")"
   ]
  },
  {
   "cell_type": "code",
   "execution_count": null,
   "id": "fd04274f-0fb1-470b-9689-b4aa7746d758",
   "metadata": {},
   "outputs": [],
   "source": []
  }
 ],
 "metadata": {
  "kernelspec": {
   "display_name": "Python 3 (ipykernel)",
   "language": "python",
   "name": "python3"
  },
  "language_info": {
   "codemirror_mode": {
    "name": "ipython",
    "version": 3
   },
   "file_extension": ".py",
   "mimetype": "text/x-python",
   "name": "python",
   "nbconvert_exporter": "python",
   "pygments_lexer": "ipython3",
   "version": "3.11.7"
  }
 },
 "nbformat": 4,
 "nbformat_minor": 5
}
