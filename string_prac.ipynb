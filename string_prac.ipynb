{
 "cells": [
  {
   "cell_type": "code",
   "execution_count": 30,
   "id": "9c74338f-6215-4bf9-9027-e381abff0ff1",
   "metadata": {},
   "outputs": [
    {
     "name": "stdout",
     "output_type": "stream",
     "text": [
      "26\n",
      "68\n",
      "11\n",
      "이렇게 따옴표 3개 하면 줄이 넘어가도 문자열 인식\n",
      "된다네욤!!!!!!!!!!!!!!!!!!!!!!!!!! 우와~~~~~~\n",
      "이\n",
      "~\n",
      "따옴표\n"
     ]
    }
   ],
   "source": [
    "txt = \"\"\"이렇게 따옴표 3개 하면 줄이 넘어가도 문자열 인식\n",
    "된다네욤!!!!!!!!!!!!!!!!!!!!!!!!!! 와우~~~~~~\"\"\"\n",
    "\n",
    "print(txt.count(\"!\"))\n",
    "print(len(txt))\n",
    "print(txt.find(\"하\"))\n",
    "print(txt.replace(\"와우\",\"우와\"))\n",
    "print(txt[0])\n",
    "print(txt[-1])\n",
    "print(txt[4:7])"
   ]
  },
  {
   "cell_type": "code",
   "execution_count": 40,
   "id": "fb2a95b1-1b0f-496b-a825-02ac40790780",
   "metadata": {},
   "outputs": [
    {
     "name": "stdout",
     "output_type": "stream",
     "text": [
      "야옹\n",
      "야옹\n"
     ]
    }
   ],
   "source": [
    "strip_txt = \"  야옹  \"\n",
    "strip_a_txt = \"aaa야옹\"\n",
    "\n",
    "print(strip_txt.strip())\n",
    "print(strip_txt.strip(\"aaa\").strip()) #strip(\"aaa\")만 하면 a가 공백으로 치환되어 뒤어 strip 추가했더니 공백없는 야옹 완성"
   ]
  },
  {
   "cell_type": "code",
   "execution_count": 83,
   "id": "2f873a24-835a-4ede-b14f-65239570dff8",
   "metadata": {},
   "outputs": [
    {
     "name": "stdout",
     "output_type": "stream",
     "text": [
      "감사하빈다.\n",
      "제 나이는 만나이 21살, 2002년생 입니다.\n",
      "3.14\n",
      "3.14\n",
      "야옹은 고양이 강아지는 멍멍 !!\n"
     ]
    }
   ],
   "source": [
    "thx_txt = \"감사{}다.\".format(\"하빈\")\n",
    "print(thx_txt)\n",
    "\n",
    "my_age = \"제 나이는 만나이 {1}살, {0}년생 입니다.\".format(2002,21)\n",
    "print(my_age)\n",
    "\n",
    "pi = 3.1415926535\n",
    "print(format(pi,\".2f\"))\n",
    "print('{:.2f}'.format(pi))\n",
    "\n",
    "per_txt = \"야옹은 %s 강아지는 %s !!\"\n",
    "print(per_txt  % (\"고양이\",\"멍멍\"))"
   ]
  },
  {
   "cell_type": "code",
   "execution_count": null,
   "id": "89718a56-9b7d-4f23-9403-86f4c64ecd88",
   "metadata": {},
   "outputs": [],
   "source": []
  }
 ],
 "metadata": {
  "kernelspec": {
   "display_name": "Python 3 (ipykernel)",
   "language": "python",
   "name": "python3"
  },
  "language_info": {
   "codemirror_mode": {
    "name": "ipython",
    "version": 3
   },
   "file_extension": ".py",
   "mimetype": "text/x-python",
   "name": "python",
   "nbconvert_exporter": "python",
   "pygments_lexer": "ipython3",
   "version": "3.11.7"
  }
 },
 "nbformat": 4,
 "nbformat_minor": 5
}
